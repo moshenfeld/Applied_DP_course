{
 "cells": [
  {
   "cell_type": "code",
   "execution_count": 1,
   "metadata": {},
   "outputs": [],
   "source": [
    "import numpy as np\n",
    "from prettytable import PrettyTable\n",
    "import matplotlib.pyplot as plt\n",
    "from scipy.stats import norm\n",
    "\n",
    "#set seed\n",
    "np.random.seed(4)"
   ]
  },
  {
   "cell_type": "markdown",
   "metadata": {},
   "source": [
    "# General supporting functions"
   ]
  },
  {
   "cell_type": "markdown",
   "metadata": {},
   "source": [
    "## Data sampling functions"
   ]
  },
  {
   "cell_type": "code",
   "execution_count": 2,
   "metadata": {},
   "outputs": [],
   "source": [
    "#Sample the linear model, by first sampling the mean from a Redamacher distribution, and then sampling the model from a normal distribution around the mean\n",
    "# dim: the dimension of the data (+ 1 for the constant 1)\n",
    "# sigma: the standard deviation of the normal distribution\n",
    "# bias_factor: the scale of the Redamacher distribution\n",
    "def sample_model(dim, sigma, bias_factor):\n",
    "    mean = (np.random.binomial(1, 0.5, dim+1)*2 - 1)*bias_factor\n",
    "    return np.random.normal(mean, sigma)\n",
    "\n",
    "#Sample the data, by sampling from a normal distribution with mean zero and the given standard deviation, and add the constant 1\n",
    "# dim: the dimension of the data\n",
    "# data_scale: the standard deviation of the normal distribution\n",
    "# num_samples: the number of samples\n",
    "def sample_data(dim, data_scale, num_samples):\n",
    "    mean = np.zeros(dim)\n",
    "    data = np.random.normal(mean, data_scale, (num_samples, dim))\n",
    "    data = np.append(data, np.ones((data.shape[0], 1)), axis=1)\n",
    "    return data\n",
    "\n",
    "#Sample the labels, by first computing the probability of the positive class according to the logistic distribution, and then sampling from a Bernoulli distribution with the corresponding probability\n",
    "# data: the data\n",
    "# model: the linear model of the logistic distribution\n",
    "def sample_labels(data, model):\n",
    "    prob = 1/(1+np.exp(-np.dot(data, model)))\n",
    "    labels = np.random.binomial(1, prob)\n",
    "    return labels\n",
    "\n",
    "#Sample the data, a model, and the labels using the above functions\n",
    "def sample_training_set(data_parameters):\n",
    "    model = sample_model(data_parameters['dim'], data_parameters['init_sigma'], data_parameters['bias_factor'])\n",
    "    \n",
    "    training_data = sample_data(data_parameters['dim'], data_parameters['data_scale'], data_parameters['training_sample_size'])\n",
    "    training_labels = sample_labels(training_data, model)\n",
    "    training_set = {'data': training_data, 'labels': training_labels}\n",
    "\n",
    "    return training_set, model\n",
    "\n",
    "#Sample the data, a model, and the labels for training and test sets using the above functions\n",
    "def sample_train_and_test(data_parameters):\n",
    "    model = sample_model(data_parameters['dim'], data_parameters['init_sigma'], data_parameters['bias_factor'])\n",
    "    \n",
    "    training_data = sample_data(data_parameters['dim'], data_parameters['data_scale'], data_parameters['training_sample_size'])\n",
    "    training_labels = sample_labels(training_data, model)\n",
    "    training_set = {'data': training_data, 'labels': training_labels}\n",
    "\n",
    "    test_sample_size = int(data_parameters['training_sample_size'] * data_parameters['test_ratio'])\n",
    "    test_data = sample_data(data_parameters['dim'], data_parameters['data_scale'], test_sample_size)\n",
    "    test_labels = sample_labels(test_data, model)\n",
    "    test_set = {'data': test_data, 'labels': test_labels}\n",
    "    \n",
    "    full_data = {'training': training_set, 'test': test_set}\n",
    "    return full_data, model"
   ]
  },
  {
   "cell_type": "markdown",
   "metadata": {},
   "source": [
    "## Logistic regression functions"
   ]
  },
  {
   "cell_type": "code",
   "execution_count": 3,
   "metadata": {},
   "outputs": [],
   "source": [
    "#Compute the logistic loss of the given model on the given data set\n",
    "# data_set: a dictionary containing the data and labels\n",
    "# model: the linear model of the logistic distribution\n",
    "def logistic_loss(data_set, model):\n",
    "    #clip the probability to avoid numerical instability\n",
    "    prob = np.clip(1/(1+np.exp(-np.dot(data_set['data'], model))), 1e-4, 1-1e-4)\n",
    "    return -np.mean(data_set['labels'] * np.log(prob) + (1-data_set['labels']) * np.log(1-prob))\n",
    "\n",
    "# Compute the logistic model from a given data set using gradient descent\n",
    "# starting_model: the initial model\n",
    "# data_set: a dictionary containing the data and labels\n",
    "# learning_parameters: a dictionary containing the learning parameters\n",
    "def logistic_regression(starting_model, data_set, learning_parameters):\n",
    "    models = []\n",
    "    last_model = starting_model.copy()\n",
    "    models.append(last_model)\n",
    "    for i in range(learning_parameters['num_of_iterations']):\n",
    "        prob = np.clip(1/(1+np.exp(-np.dot(data_set['data'], last_model))), 1e-6, 1-1e-6)\n",
    "        full_gradient = data_set['data'] * (data_set['labels'] - prob)[:, np.newaxis]\n",
    "        if 'clipping_radius' in learning_parameters:\n",
    "            gradient_norms = np.linalg.norm(full_gradient, axis=1)\n",
    "            clipped_gradient_norms = np.minimum(np.linalg.norm(full_gradient, axis=1), learning_parameters['clipping_radius'])\n",
    "            clipped_gradients = full_gradient * (clipped_gradient_norms / gradient_norms)[:, np.newaxis]\n",
    "        else:\n",
    "            clipped_gradients = full_gradient\n",
    "        gradient = np.mean(clipped_gradients, axis=0)\n",
    "        if 'noise_factor' in learning_parameters:\n",
    "            gradient += np.random.normal(np.zeros_like(gradient) , learning_parameters['noise_factor'])\n",
    "        last_model += learning_parameters['learning_rate'] * gradient\n",
    "        models.append(last_model.copy())\n",
    "    return np.array(models)"
   ]
  },
  {
   "cell_type": "markdown",
   "metadata": {},
   "source": [
    "## Privacy calculation"
   ]
  },
  {
   "cell_type": "code",
   "execution_count": 4,
   "metadata": {},
   "outputs": [],
   "source": [
    "# Compute the RDP factor for a sequence of noisy gradient descent steps\n",
    "# num_of_iterations: the number of iterations\n",
    "# noise_factor: the standard deviation of the noise\n",
    "# clipping_radius: the clipping radius\n",
    "# sample_size: the number of samples\n",
    "def RDP_factor(num_of_iterations, noise_factor, clipping_radius, sample_size):\n",
    "    return num_of_iterations * clipping_radius**2 / (2 *sample_size**2 * noise_factor**2)\n",
    "\n",
    "# Compute the epsilon privacy parameter for a given delta using the RDP factor\n",
    "# num_of_iterations: the number of iterations\n",
    "# noise_factor: the standard deviation of the noise\n",
    "# clipping_radius: the clipping radius\n",
    "# sample_size: the number of samples\n",
    "def epsilon_from_delta(num_of_iterations, noise_factor, clipping_radius, sample_size, delta):\n",
    "    rho = RDP_factor(num_of_iterations, noise_factor, clipping_radius, sample_size)\n",
    "    return rho + 2 * np.sqrt(rho * np.log(np.sqrt(np.pi * rho)/delta))\n",
    "\n",
    "# Compute the delta privacy parameter for a given epsilon using the RDP factor\n",
    "# num_of_iterations: the number of iterations\n",
    "# noise_factor: the standard deviation of the noise\n",
    "# clipping_radius: the clipping radius\n",
    "# sample_size: the number of samples\n",
    "def delta_from_epsilon(num_of_iterations, noise_factor, clipping_radius, sample_size, epsilon):\n",
    "    rho = RDP_factor(num_of_iterations, noise_factor, clipping_radius, sample_size)\n",
    "    if rho >= epsilon:\n",
    "        return 1\n",
    "    factor = (epsilon-rho) / (2*rho)\n",
    "    return 2*np.exp(-rho*factor**2 ) / (1+factor+np.sqrt((1+factor)**2+4/(np.pi*rho)))"
   ]
  },
  {
   "cell_type": "markdown",
   "metadata": {},
   "source": [
    "# 1. Accuracy simulation infrastructure"
   ]
  },
  {
   "cell_type": "markdown",
   "metadata": {},
   "source": [
    "## Supporting object"
   ]
  },
  {
   "cell_type": "code",
   "execution_count": 5,
   "metadata": {},
   "outputs": [],
   "source": [
    "# A class to store the losses of different models\n",
    "class Losses:\n",
    "\n",
    "    def __init__(self, name):\n",
    "        self.name = name\n",
    "        self.loss = {}\n",
    "    \n",
    "    def __init__(self, name, data_set = [], models = []):\n",
    "        self.name = name\n",
    "        self.loss = {}\n",
    "        for key in models:\n",
    "            self.loss[key + ' model'] = logistic_loss(data_set, models[key])\n",
    "\n",
    "    def add_loss(self, other):\n",
    "        for key in other.loss:\n",
    "            if key in self.loss:\n",
    "                self.loss[key] += other.loss[key]\n",
    "            else:\n",
    "                self.loss[key] = other.loss[key]\n",
    "\n",
    "    def average_loss(self, num_of_experiments):\n",
    "        for key in self.loss:\n",
    "            self.loss[key] /= num_of_experiments"
   ]
  },
  {
   "cell_type": "markdown",
   "metadata": {},
   "source": [
    "## Experiment functions"
   ]
  },
  {
   "cell_type": "code",
   "execution_count": 6,
   "metadata": {},
   "outputs": [],
   "source": [
    "# A single experiment, which samples the data and the model, and then computes the losses of the true model, the guess model, and the learned models, one per learning_parameters\n",
    "# data_parameters: a dictionary containing the data sampling parameters\n",
    "# learning_parameters_array: an array of dictionaries, each containing a set of learning parameters\n",
    "def run_experiment(data_parameters, learning_parameters_array):\n",
    "    full_data, true_model = sample_train_and_test(data_parameters)\n",
    "    guess_model = sample_model(data_parameters['dim'], data_parameters['init_sigma'], data_parameters['bias_factor'])\n",
    "    models = {'true': true_model, 'guess': guess_model}\n",
    "    for i in range(len(learning_parameters_array)):\n",
    "        models_array = logistic_regression(guess_model, full_data['training'], learning_parameters_array[i])\n",
    "        model = models_array[-1]\n",
    "        models[(learning_parameters_array[i])['name']] = model\n",
    "    training_losses = Losses('training', full_data['training'], models)\n",
    "    test_losses = Losses('test', full_data['test'], models)\n",
    "    return training_losses, test_losses\n",
    "\n",
    "# A full experiment, which runs num_of_experiments experiments using the previous function and averages the losses\n",
    "# data_parameters: a dictionary containing the data sampling parameters\n",
    "# learning_parameters_array: an array of dictionaries, each containing a set of learning parameters\n",
    "# num_of_experiments: the number of experiments\n",
    "def run_full_experiment(data_parameters, learning_parameters_array, num_of_experiments):\n",
    "    training_losses = Losses('training')\n",
    "    test_losses = Losses('test')\n",
    "\n",
    "    for i in range(num_of_experiments):\n",
    "        iter_training_losses, iter_test_losses = run_experiment(data_parameters, learning_parameters_array)\n",
    "        training_losses.add_loss(iter_training_losses)\n",
    "        test_losses.add_loss(iter_test_losses)\n",
    "\n",
    "    training_losses.average_loss(num_of_experiments)\n",
    "    test_losses.average_loss(num_of_experiments)            \n",
    "    return training_losses, test_losses"
   ]
  },
  {
   "cell_type": "markdown",
   "metadata": {},
   "source": [
    "## Output function"
   ]
  },
  {
   "cell_type": "code",
   "execution_count": 7,
   "metadata": {},
   "outputs": [],
   "source": [
    "def float2txt(num):\n",
    "    return \"{:.3f}\".format(num)\n",
    "\n",
    "#Print the results of the accuracy experiment\n",
    "# data_parameters: a dictionary containing the data sampling parameters\n",
    "# training_losses: the losses on the training set\n",
    "# test_losses: the losses on the test set\n",
    "def print_results(data_parameters, training_losses, test_losses):\n",
    "    print('Losses for dim = ', str(data_parameters['dim']), ', data_scale = ', str(data_parameters['data_scale']), ', training_sample_size = ', str(data_parameters['training_sample_size']))\n",
    "    \n",
    "    table = PrettyTable(['model', 'Training', 'test'])\n",
    "    for key in training_losses.loss:\n",
    "        table.add_row([key, float2txt(training_losses.loss[key]), float2txt(test_losses.loss[key])])\n",
    "    print(table)"
   ]
  },
  {
   "cell_type": "markdown",
   "metadata": {},
   "source": [
    "## Experiment 1"
   ]
  },
  {
   "cell_type": "code",
   "execution_count": 8,
   "metadata": {},
   "outputs": [],
   "source": [
    "data_parameters = {'dim': 10, 'data_scale': 2, 'init_sigma': 0.5, 'bias_factor': 1, 'training_sample_size': 300, 'test_ratio': 0.5}\n",
    "learning_parameters = [{'name': 'Learned', 'learning_rate': 1, 'num_of_iterations': 40}]\n",
    "num_of_experiments   = 1000"
   ]
  },
  {
   "cell_type": "code",
   "execution_count": 9,
   "metadata": {},
   "outputs": [
    {
     "name": "stdout",
     "output_type": "stream",
     "text": [
      "Losses for dim =  10 , data_scale =  2 , training_sample_size =  300\n",
      "+---------------+----------+-------+\n",
      "|     model     | Training |  test |\n",
      "+---------------+----------+-------+\n",
      "|   true model  |  0.180   | 0.179 |\n",
      "|  guess model  |  2.569   | 2.568 |\n",
      "| Learned model |  0.170   | 0.199 |\n",
      "+---------------+----------+-------+\n"
     ]
    }
   ],
   "source": [
    "training_losses, test_losses = run_full_experiment(data_parameters, learning_parameters, num_of_experiments)\n",
    "print_results(data_parameters, training_losses, test_losses)"
   ]
  },
  {
   "cell_type": "markdown",
   "metadata": {},
   "source": [
    "# 2. Reconstruction attacks infrastructure"
   ]
  },
  {
   "cell_type": "markdown",
   "metadata": {},
   "source": [
    "## Reconstruction functions"
   ]
  },
  {
   "cell_type": "code",
   "execution_count": 10,
   "metadata": {},
   "outputs": [],
   "source": [
    "# Linear regression based reconstruction method of the form queries * rec = answers\n",
    "# queries: the queries matrix\n",
    "# answers: the answers vector\n",
    "def lin_reg_reconstruction(queries, answers):\n",
    "    rec = np.linalg.lstsq(queries, answers, rcond=None)[0]\n",
    "    return np.rint(np.clip(rec, 0, 1))\n",
    "\n",
    "# Extract the gradients from the intermediate models including the final model\n",
    "# data: the dataset\n",
    "# models_array: the array of intermediate models\n",
    "# learning_rate: the learning rate\n",
    "def extract_gradients_from_intermediate_models(data, models_array, learning_rate):\n",
    "    sample_size = data.shape[0]\n",
    "    queries = data.T\n",
    "    answers = np.zeros(data.shape[1])\n",
    "    num_models = models_array.shape[0]\n",
    "    for i in range(num_models - 1):\n",
    "        model_before = models_array[i]\n",
    "        model_after = models_array[i+1]\n",
    "        prob = np.clip(1/(1+np.exp(-np.dot(data, model_before))), 1e-6, 1-1e-6)\n",
    "        gradient = (model_after - model_before) / learning_rate\n",
    "        answers += np.dot(data.T, prob) + gradient*sample_size\n",
    "    prob = np.clip(1/(1+np.exp(-np.dot(data, model_after))), 1e-6, 1-1e-6)\n",
    "    answers += np.dot(data.T, prob)\n",
    "    answers /= num_models\n",
    "    return queries, answers\n",
    "\n",
    "# Run the reconstruction test based on the intermediate models by first extracting the gradients and then running the linear regression based reconstruction\n",
    "# data_set: the dataset\n",
    "# models_array: the array of intermediate models\n",
    "def reconstruction_test_for_intermediate_models(data_set, models_array, learning_rate):\n",
    "    queries, answers = extract_gradients_from_intermediate_models(data_set['data'], models_array, learning_rate)\n",
    "    reconstruction = lin_reg_reconstruction(queries, answers)\n",
    "    return np.mean(np.abs(reconstruction - data_set['labels']))\n",
    "\n",
    "# Extract the gradients from the final model\n",
    "# data: the dataset\n",
    "# model: the final model\n",
    "def extract_gradients_from_final_model(data, model):\n",
    "    queries = data.T\n",
    "    prob = np.clip(1/(1+np.exp(-np.dot(data, model))), 1e-6, 1-1e-6)\n",
    "    answers = np.dot(data.T, prob)\n",
    "    return queries, answers\n",
    "\n",
    "# Run the reconstruction test based on the final model by first extracting the gradient and then running the linear regression based reconstruction\n",
    "# data_set: the dataset\n",
    "# model: the final model\n",
    "def reconstruction_test_for_final_models(data_set, model):\n",
    "    queries, answers = extract_gradients_from_final_model(data_set['data'], model)\n",
    "    reconstruction = lin_reg_reconstruction(queries, answers)\n",
    "    return np.mean(np.abs(reconstruction - data_set['labels']))"
   ]
  },
  {
   "cell_type": "markdown",
   "metadata": {},
   "source": [
    "## Supporting object"
   ]
  },
  {
   "cell_type": "code",
   "execution_count": 11,
   "metadata": {},
   "outputs": [],
   "source": [
    "# A class to store the reconstruction errors of different models\n",
    "class ReconstructionErrors:\n",
    "\n",
    "    def __init__(self, keys):\n",
    "        self.error = {}\n",
    "        for key in keys:\n",
    "            self.error[key] = 0\n",
    "    \n",
    "    def add_error(self, other):\n",
    "        for key in other.error:\n",
    "            self.error[key] += other.error[key]\n",
    "\n",
    "    def average_error(self, num_of_experiments):\n",
    "        for key in self.error:\n",
    "            self.error[key] /= num_of_experiments"
   ]
  },
  {
   "cell_type": "markdown",
   "metadata": {},
   "source": [
    "## Experiment functions"
   ]
  },
  {
   "cell_type": "code",
   "execution_count": 12,
   "metadata": {},
   "outputs": [],
   "source": [
    "# A single reconstruction experiment, which samples the data and the model, and then computes the reconstruction errors of the intermediate models and the final model, one per learning_parameters\n",
    "# data_parameters: a dictionary containing the data sampling parameters\n",
    "# learning_parameters_array: an array of dictionaries, each containing a set of learning parameters\n",
    "def run_reconstruction_experiment(data_parameters, learning_parameters_array):\n",
    "    training_set, _ = sample_training_set(data_parameters)\n",
    "    guess_model = sample_model(data_parameters['dim'], data_parameters['init_sigma'], data_parameters['bias_factor'])\n",
    "    models = {}\n",
    "    keys = [learning_parameters['name'] for learning_parameters in learning_parameters_array]\n",
    "    intermediate_models_reconstruction_errors = ReconstructionErrors(keys)\n",
    "    final_model_reconstruction_errors = ReconstructionErrors(keys)\n",
    "    for i, key in enumerate(keys):\n",
    "        learning_parameters = learning_parameters_array[i]\n",
    "        models_array = logistic_regression(guess_model, training_set, learning_parameters)\n",
    "        model = models_array[-1]\n",
    "        models[key] = model\n",
    "        intermediate_models_reconstruction_errors.error[key] = reconstruction_test_for_intermediate_models(training_set, models_array, learning_parameters['learning_rate'])\n",
    "        final_model_reconstruction_errors.error[key] = reconstruction_test_for_final_models(training_set, model)\n",
    "    return intermediate_models_reconstruction_errors, final_model_reconstruction_errors\n",
    "\n",
    "# A full reconstruction experiment, which runs num_of_experiments experiments using the previous function and averages the reconstruction errors\n",
    "# data_parameters: a dictionary containing the data sampling parameters\n",
    "# learning_parameters_array: an array of dictionaries, each containing a set of learning parameters\n",
    "def run_full_reconstruction_experiment(data_parameters, learning_parameters_array, num_of_experiments):\n",
    "    keys = [learning_parameters['name'] for learning_parameters in learning_parameters_array]\n",
    "    intermediate_models_reconstruction_errors = ReconstructionErrors(keys)\n",
    "    final_model_reconstruction_errors = ReconstructionErrors(keys)\n",
    "\n",
    "    for i in range(num_of_experiments):\n",
    "        iter_intermediate_models_reconstruction_errors, iter_final_model_reconstruction_errors = run_reconstruction_experiment(data_parameters, learning_parameters_array)\n",
    "        intermediate_models_reconstruction_errors.add_error(iter_intermediate_models_reconstruction_errors)\n",
    "        final_model_reconstruction_errors.add_error(iter_final_model_reconstruction_errors)\n",
    "\n",
    "    intermediate_models_reconstruction_errors.average_error(num_of_experiments)\n",
    "    final_model_reconstruction_errors.average_error(num_of_experiments)\n",
    "    return intermediate_models_reconstruction_errors, final_model_reconstruction_errors"
   ]
  },
  {
   "cell_type": "markdown",
   "metadata": {},
   "source": [
    "## Output functions"
   ]
  },
  {
   "cell_type": "code",
   "execution_count": 13,
   "metadata": {},
   "outputs": [],
   "source": [
    "#Print the results of the reconstruction experiment from intermidiate models\n",
    "# data_parameters: a dictionary containing the data sampling parameters\n",
    "# learning_parameters_array: an array of dictionaries, each containing a set of learning parameters\n",
    "# intermediate_models_reconstruction_errors: the reconstruction errors of the intermediate models\n",
    "def print_reconstruction_results_intermidiate(data_parameters, intermediate_models_reconstruction_errors):\n",
    "    print('Reconstruction errors for dim = ', str(data_parameters['dim']), ', data_scale = ', str(data_parameters['data_scale']), ', training_sample_size = ', str(data_parameters['training_sample_size']))\n",
    "    \n",
    "    table = PrettyTable(['Model', 'Intermediate models '])\n",
    "    for key in intermediate_models_reconstruction_errors.error:\n",
    "        table.add_row([key, float2txt(intermediate_models_reconstruction_errors.error[key])])\n",
    "    print(table)\n",
    "\n",
    "#Print the results of the reconstruction experiment from intermidiate models and from the final model\n",
    "# data_parameters: a dictionary containing the data sampling parameters\n",
    "# learning_parameters_array: an array of dictionaries, each containing a set of learning parameters\n",
    "# intermediate_models_reconstruction_errors: the reconstruction errors of the intermediate models\n",
    "# final_model_reconstruction_errors: the reconstruction errors of the final model\n",
    "def print_reconstruction_results_intermidiate_and_final(data_parameters, intermediate_models_reconstruction_errors, final_model_reconstruction_errors):\n",
    "    print('Reconstruction errors for dim = ', str(data_parameters['dim']), ', data_scale = ', str(data_parameters['data_scale']), ', training_sample_size = ', str(data_parameters['training_sample_size']))\n",
    "    \n",
    "    table = PrettyTable(['Model', 'Intermediate models ', 'Final model'])\n",
    "    for key in intermediate_models_reconstruction_errors.error:\n",
    "        table.add_row([key, float2txt(intermediate_models_reconstruction_errors.error[key]), float2txt(final_model_reconstruction_errors.error[key])])\n",
    "    print(table)\n",
    "\n",
    "#Print the results of the reconstruction experiment from intermidiate models and from the final model, and the corresponding epsilon for a given delta\n",
    "# data_parameters: a dictionary containing the data sampling parameters\n",
    "# learning_parameters_array: an array of dictionaries, each containing a set of learning parameters\n",
    "# intermediate_models_reconstruction_errors: the reconstruction errors of the intermediate models\n",
    "# final_model_reconstruction_errors: the reconstruction errors of the final model\n",
    "# delta: the delta privacy parameter\n",
    "def print_reconstruction_results_with_epsilon(data_parameters, learning_parameters_array, intermediate_models_reconstruction_errors, final_model_reconstruction_errors, delta):\n",
    "    print('Reconstruction errors for dim = ', str(data_parameters['dim']), ', data_scale = ', str(data_parameters['data_scale']), ', training_sample_size = ', str(data_parameters['training_sample_size']))\n",
    "    print('epsilon computed for delta = ', str(delta))\n",
    "    \n",
    "    table = PrettyTable(['Model', 'epsilon', 'Intermediate models ', 'Final model'])\n",
    "    for key in intermediate_models_reconstruction_errors.error:\n",
    "        learning_parameters = learning_parameters_array[[learning_parameters['name'] for learning_parameters in learning_parameters_array].index(key)]\n",
    "        if 'noise_factor' in learning_parameters:\n",
    "            epsilon = epsilon_from_delta(learning_parameters['num_of_iterations'], learning_parameters['noise_factor'], learning_parameters['clipping_radius'], data_parameters['training_sample_size'], delta)\n",
    "            epsilon_txt = float2txt(epsilon)\n",
    "        else:\n",
    "            epsilon_txt = 'inf'\n",
    "        table.add_row([key, epsilon_txt, float2txt(intermediate_models_reconstruction_errors.error[key]), float2txt(final_model_reconstruction_errors.error[key])])\n",
    "    print(table)"
   ]
  },
  {
   "cell_type": "markdown",
   "metadata": {},
   "source": [
    "## Experiment 2.1"
   ]
  },
  {
   "cell_type": "code",
   "execution_count": 14,
   "metadata": {},
   "outputs": [],
   "source": [
    "data_parameters = {'dim': 100, 'data_scale': 2, 'init_sigma': 1, 'bias_factor': 3, 'test_ratio': 0.5}\n",
    "data_parameters['training_sample_size'] = data_parameters['dim']+1\n",
    "learning_parameters_array = [{'name': 'Learned', 'learning_rate': 20, 'num_of_iterations': 20}, \n",
    "                       {'name': 'Learned - noisy (0.02)', 'learning_rate': 20, 'num_of_iterations': 20, 'clipping_radius': data_parameters['data_scale']*4, 'noise_factor': 0.02},\n",
    "                       {'name': 'Learned - noisy (0.05)', 'learning_rate': 20, 'num_of_iterations': 20, 'clipping_radius': data_parameters['data_scale']*4, 'noise_factor': 0.05},\n",
    "                       {'name': 'Learned - noisy (0.1)', 'learning_rate': 20, 'num_of_iterations': 20, 'clipping_radius': data_parameters['data_scale']*4, 'noise_factor': 0.1},\n",
    "                       {'name': 'Learned - noisy (0.15)', 'learning_rate': 20, 'num_of_iterations': 20, 'clipping_radius': data_parameters['data_scale']*4, 'noise_factor': 0.15},\n",
    "                       {'name': 'Learned - noisy (0.2)', 'learning_rate': 20, 'num_of_iterations': 20, 'clipping_radius': data_parameters['data_scale']*4, 'noise_factor': 0.2},\n",
    "                       {'name': 'Learned - noisy (0.25)', 'learning_rate': 20, 'num_of_iterations': 20, 'clipping_radius': data_parameters['data_scale']*4, 'noise_factor': 0.25}]\n",
    "num_of_experiments   = 1000"
   ]
  },
  {
   "cell_type": "code",
   "execution_count": 15,
   "metadata": {},
   "outputs": [
    {
     "name": "stderr",
     "output_type": "stream",
     "text": [
      "/var/folders/ql/wp0qmxh5457dhfv74pc954hh0000gn/T/ipykernel_26432/3379327836.py:18: RuntimeWarning: overflow encountered in exp\n",
      "  prob = np.clip(1/(1+np.exp(-np.dot(data_set['data'], last_model))), 1e-6, 1-1e-6)\n",
      "/var/folders/ql/wp0qmxh5457dhfv74pc954hh0000gn/T/ipykernel_26432/3379327836.py:6: RuntimeWarning: overflow encountered in exp\n",
      "  prob = np.clip(1/(1+np.exp(-np.dot(data_set['data'], model))), 1e-4, 1-1e-4)\n"
     ]
    },
    {
     "name": "stdout",
     "output_type": "stream",
     "text": [
      "Losses for dim =  100 , data_scale =  2 , training_sample_size =  101\n",
      "+------------------------------+----------+-------+\n",
      "|            model             | Training |  test |\n",
      "+------------------------------+----------+-------+\n",
      "|          true model          |  0.021   | 0.021 |\n",
      "|         guess model          |  4.339   | 4.357 |\n",
      "|        Learned model         |  0.000   | 2.595 |\n",
      "| Learned - noisy (0.02) model |  0.064   | 2.855 |\n",
      "| Learned - noisy (0.05) model |  0.350   | 2.988 |\n",
      "| Learned - noisy (0.1) model  |  0.852   | 3.184 |\n",
      "| Learned - noisy (0.15) model |  1.305   | 3.345 |\n",
      "| Learned - noisy (0.2) model  |  1.633   | 3.476 |\n",
      "| Learned - noisy (0.25) model |  1.952   | 3.598 |\n",
      "+------------------------------+----------+-------+\n"
     ]
    },
    {
     "name": "stderr",
     "output_type": "stream",
     "text": [
      "/var/folders/ql/wp0qmxh5457dhfv74pc954hh0000gn/T/ipykernel_26432/3774633263.py:20: RuntimeWarning: overflow encountered in exp\n",
      "  prob = np.clip(1/(1+np.exp(-np.dot(data, model_before))), 1e-6, 1-1e-6)\n",
      "/var/folders/ql/wp0qmxh5457dhfv74pc954hh0000gn/T/ipykernel_26432/3774633263.py:23: RuntimeWarning: overflow encountered in exp\n",
      "  prob = np.clip(1/(1+np.exp(-np.dot(data, model_after))), 1e-6, 1-1e-6)\n",
      "/var/folders/ql/wp0qmxh5457dhfv74pc954hh0000gn/T/ipykernel_26432/3774633263.py:41: RuntimeWarning: overflow encountered in exp\n",
      "  prob = np.clip(1/(1+np.exp(-np.dot(data, model))), 1e-6, 1-1e-6)\n"
     ]
    },
    {
     "name": "stdout",
     "output_type": "stream",
     "text": [
      "Reconstruction errors for dim =  100 , data_scale =  2 , training_sample_size =  101\n",
      "+------------------------+----------------------+\n",
      "|         Model          | Intermediate models  |\n",
      "+------------------------+----------------------+\n",
      "|        Learned         |        0.000         |\n",
      "| Learned - noisy (0.02) |        0.000         |\n",
      "| Learned - noisy (0.05) |        0.005         |\n",
      "| Learned - noisy (0.1)  |        0.052         |\n",
      "| Learned - noisy (0.15) |        0.107         |\n",
      "| Learned - noisy (0.2)  |        0.158         |\n",
      "| Learned - noisy (0.25) |        0.198         |\n",
      "+------------------------+----------------------+\n"
     ]
    }
   ],
   "source": [
    "training_losses, test_losses = run_full_experiment(data_parameters, learning_parameters_array, num_of_experiments)\n",
    "print_results(data_parameters, training_losses, test_losses)\n",
    "\n",
    "intermediate_models_reconstruction_errors, final_model_reconstruction_errors = run_full_reconstruction_experiment(data_parameters, learning_parameters_array, num_of_experiments)\n",
    "print_reconstruction_results_intermidiate(data_parameters, intermediate_models_reconstruction_errors)"
   ]
  },
  {
   "cell_type": "markdown",
   "metadata": {},
   "source": [
    "## Experiment 2.2"
   ]
  },
  {
   "cell_type": "code",
   "execution_count": 16,
   "metadata": {},
   "outputs": [
    {
     "name": "stdout",
     "output_type": "stream",
     "text": [
      "Reconstruction errors for dim =  100 , data_scale =  2 , training_sample_size =  101\n",
      "+------------------------+----------------------+-------------+\n",
      "|         Model          | Intermediate models  | Final model |\n",
      "+------------------------+----------------------+-------------+\n",
      "|        Learned         |        0.000         |    0.000    |\n",
      "| Learned - noisy (0.02) |        0.000         |    0.014    |\n",
      "| Learned - noisy (0.05) |        0.005         |    0.048    |\n",
      "| Learned - noisy (0.1)  |        0.052         |    0.104    |\n",
      "| Learned - noisy (0.15) |        0.107         |    0.148    |\n",
      "| Learned - noisy (0.2)  |        0.158         |    0.184    |\n",
      "| Learned - noisy (0.25) |        0.198         |    0.215    |\n",
      "+------------------------+----------------------+-------------+\n"
     ]
    }
   ],
   "source": [
    "print_reconstruction_results_intermidiate_and_final(data_parameters, intermediate_models_reconstruction_errors, final_model_reconstruction_errors)"
   ]
  },
  {
   "cell_type": "markdown",
   "metadata": {},
   "source": [
    "## Experiment 2.3"
   ]
  },
  {
   "cell_type": "code",
   "execution_count": 17,
   "metadata": {},
   "outputs": [],
   "source": [
    "delta = 0.0001"
   ]
  },
  {
   "cell_type": "code",
   "execution_count": 18,
   "metadata": {},
   "outputs": [
    {
     "name": "stdout",
     "output_type": "stream",
     "text": [
      "Reconstruction errors for dim =  100 , data_scale =  2 , training_sample_size =  101\n",
      "epsilon computed for delta =  0.0001\n",
      "+------------------------+---------+----------------------+-------------+\n",
      "|         Model          | epsilon | Intermediate models  | Final model |\n",
      "+------------------------+---------+----------------------+-------------+\n",
      "|        Learned         |   inf   |        0.000         |    0.000    |\n",
      "| Learned - noisy (0.02) | 244.730 |        0.000         |    0.014    |\n",
      "| Learned - noisy (0.05) |  58.915 |        0.005         |    0.048    |\n",
      "| Learned - noisy (0.1)  |  22.661 |        0.052         |    0.104    |\n",
      "| Learned - noisy (0.15) |  13.504 |        0.107         |    0.148    |\n",
      "| Learned - noisy (0.2)  |  9.492  |        0.158         |    0.184    |\n",
      "| Learned - noisy (0.25) |  7.272  |        0.198         |    0.215    |\n",
      "+------------------------+---------+----------------------+-------------+\n"
     ]
    }
   ],
   "source": [
    "print_reconstruction_results_with_epsilon(data_parameters, learning_parameters_array, intermediate_models_reconstruction_errors, final_model_reconstruction_errors, delta)"
   ]
  },
  {
   "cell_type": "markdown",
   "metadata": {},
   "source": [
    "# 3. Membership inference from final model"
   ]
  },
  {
   "cell_type": "markdown",
   "metadata": {},
   "source": [
    "## Membership inference functions"
   ]
  },
  {
   "cell_type": "code",
   "execution_count": 19,
   "metadata": {},
   "outputs": [],
   "source": [
    "# Extract the gradients from the final model based on the dataset\n",
    "# data: the dataset\n",
    "# model: the final model\n",
    "# clipping_radius: the clipping radius\n",
    "def gradient_from_data(data_set, model, clipping_radius):\n",
    "    prob = np.clip(1/(1+np.exp(-np.dot(data_set['data'], model))), 1e-6, 1-1e-6)\n",
    "    full_gradient = data_set['data'] * (data_set['labels'] - prob)[:, np.newaxis]\n",
    "    gradient_norms = np.linalg.norm(full_gradient, axis=1)\n",
    "    clipped_gradient_norms = np.minimum(np.linalg.norm(full_gradient, axis=1), clipping_radius)\n",
    "    clipped_gradients = full_gradient * (clipped_gradient_norms / gradient_norms)[:, np.newaxis]\n",
    "    return np.mean(clipped_gradients, axis=0)\n",
    "\n",
    "# Membership inference test based on the gradients of the final model with respect to two datasets\n",
    "# data_sets: an array of two datasets\n",
    "# model: the final model\n",
    "# clipping_radius: the clipping radius\n",
    "def membership_inference_test(data_sets, model, clipping_radius):\n",
    "    gradient_0 = gradient_from_data(data_sets[0], model, clipping_radius) * ((data_sets[1])['data']).shape[0]\n",
    "    gradient_1 = gradient_from_data(data_sets[1], model, clipping_radius) * ((data_sets[1])['data']).shape[0]\n",
    "    gradient_0_norm = np.linalg.norm(gradient_0)\n",
    "    gradient_1_norm = np.linalg.norm(gradient_1)\n",
    "    gradient_norm_diff = gradient_1_norm - gradient_0_norm\n",
    "    return gradient_norm_diff\n"
   ]
  },
  {
   "cell_type": "markdown",
   "metadata": {},
   "source": [
    "## Experiment functions"
   ]
  },
  {
   "cell_type": "code",
   "execution_count": 20,
   "metadata": {},
   "outputs": [],
   "source": [
    "# Create two neighboring datasets by adding a sample that is perpendicular to the true model to the original dataset, and then label the sample with 0 and 1 respectively\n",
    "# data_set: the original dataset\n",
    "# true_model: the true model\n",
    "# clipping_radius: the clipping radius\n",
    "def create_neighboring_datasets(data_set, true_model, clipping_radius):\n",
    "    sample_0 = true_model / np.linalg.norm(true_model) * clipping_radius\n",
    "    data_0 = np.append(data_set['data'].copy(), sample_0[np.newaxis, :], axis=0)\n",
    "    labels_0 = np.append(data_set['labels'].copy(), 0)\n",
    "    sample_1 = sample_0.copy()\n",
    "    data_1 = np.append(data_set['data'].copy(), sample_1[np.newaxis, :], axis=0)\n",
    "    labels_1 = np.append(data_set['labels'].copy(), 1)\n",
    "    correct_training_set = {'data': data_0, 'labels': labels_0}\n",
    "    mislabel_training_set = {'data': data_1, 'labels': labels_1}\n",
    "    return correct_training_set, mislabel_training_set\n",
    "\n",
    "# A single membership inference experiment, which samples the data and the model, and then computes the membership inference test for the two neighboring datasets\n",
    "# data_parameters: a dictionary containing the data sampling parameters\n",
    "# learning_parameters_array: an array of dictionaries, each containing a set of learning parameters\n",
    "def run_MI_experiment(data_parameters, learning_parameters_array):\n",
    "    training_set, true_model = sample_training_set(data_parameters)\n",
    "    guess_model = sample_model(data_parameters['dim'], data_parameters['init_sigma'], data_parameters['bias_factor'])\n",
    "    keys = [learning_parameters['name'] for learning_parameters in learning_parameters_array]\n",
    "    index = np.random.binomial(1, 0.5)\n",
    "    gradient_norm_diffs = np.zeros(len(keys))\n",
    "    for i in range(len(keys)):\n",
    "        learning_parameters = learning_parameters_array[i]\n",
    "        correct_training_set, mislabel_training_set = create_neighboring_datasets(training_set, true_model, learning_parameters['clipping_radius'])\n",
    "        if index:\n",
    "            training_sets = [correct_training_set, mislabel_training_set]\n",
    "        else:\n",
    "            training_sets = [mislabel_training_set, correct_training_set]\n",
    "        models_array = logistic_regression(guess_model, correct_training_set, learning_parameters)\n",
    "        model = models_array[-1]\n",
    "        gradient_norm_diffs[i] = membership_inference_test(training_sets, model, learning_parameters['clipping_radius'])\n",
    "    return index, gradient_norm_diffs\n",
    "\n",
    "# A full membership inference experiment, which runs num_of_experiments experiments using the previous function and averages the membership inference tests\n",
    "# data_parameters: a dictionary containing the data sampling parameters\n",
    "# learning_parameters_array: an array of dictionaries, each containing a set of learning parameters\n",
    "def run_full_MI_experiment(data_parameters, learning_parameters_array, num_of_experiments):\n",
    "    keys = [learning_parameters['name'] for learning_parameters in learning_parameters_array]\n",
    "    indeces = np.zeros(num_of_experiments)\n",
    "    projections = np.zeros((num_of_experiments, len(keys)))\n",
    "    for i in range(num_of_experiments):\n",
    "        indeces[i], projections[i, :] = run_MI_experiment(data_parameters, learning_parameters_array)\n",
    "    return indeces, projections"
   ]
  },
  {
   "cell_type": "markdown",
   "metadata": {},
   "source": [
    "## Experiment 3"
   ]
  },
  {
   "cell_type": "code",
   "execution_count": 21,
   "metadata": {},
   "outputs": [],
   "source": [
    "data_parameters = {'dim': 10, 'data_scale': 2, 'init_sigma': 1, 'bias_factor': 1, 'training_sample_size': 100, 'test_ratio': 0.5}\n",
    "learning_parameters_array = [{'name': 'Learned - noisy (0.01)', 'learning_rate': 1, 'num_of_iterations': 100, 'clipping_radius': data_parameters['data_scale']*4, 'noise_factor': 0.1}]\n",
    "num_of_experiments = 10000"
   ]
  },
  {
   "cell_type": "code",
   "execution_count": 22,
   "metadata": {},
   "outputs": [
    {
     "name": "stdout",
     "output_type": "stream",
     "text": [
      "Losses for dim =  10 , data_scale =  2 , training_sample_size =  100\n",
      "+------------------------------+----------+-------+\n",
      "|            model             | Training |  test |\n",
      "+------------------------------+----------+-------+\n",
      "|          true model          |  0.149   | 0.147 |\n",
      "|         guess model          |  2.887   | 2.889 |\n",
      "| Learned - noisy (0.01) model |  0.124   | 0.271 |\n",
      "+------------------------------+----------+-------+\n"
     ]
    }
   ],
   "source": [
    "training_losses, test_losses = run_full_experiment(data_parameters, learning_parameters_array, num_of_experiments)\n",
    "print_results(data_parameters, training_losses, test_losses)\n",
    "\n",
    "indeces, differences = run_full_MI_experiment(data_parameters, learning_parameters_array, num_of_experiments)"
   ]
  },
  {
   "cell_type": "code",
   "execution_count": 23,
   "metadata": {},
   "outputs": [
    {
     "data": {
      "image/png": "[encoded data removed]",
      "text/plain": [
       "<Figure size 640x480 with 1 Axes>"
      ]
     },
     "metadata": {},
     "output_type": "display_data"
    }
   ],
   "source": [
    "num_bins = 200\n",
    "x_range = 8\n",
    "x = np.linspace(-x_range, x_range, num_bins)\n",
    "bin_size = 2*x_range/num_bins\n",
    "\n",
    "positive_differences = differences[indeces == 1, :]\n",
    "mu_pos, std_pos = norm.fit(positive_differences)\n",
    "p_pos = norm.pdf(x, mu_pos, std_pos)*positive_differences.size*bin_size\n",
    "\n",
    "negative_differences = differences[indeces == 0, :]\n",
    "mu_neg, std_neg = norm.fit(negative_differences)\n",
    "p_neg = norm.pdf(x, mu_neg, std_neg)*negative_differences.size*bin_size\n",
    "\n",
    "plt.hist(positive_differences, bins=x, alpha=0.5, label='Positive', color='b')\n",
    "plt.hist(negative_differences, bins=x, alpha=0.5, label='Negative', color='r')\n",
    "plt.plot(x, p_pos, 'b', linewidth=2)\n",
    "plt.plot(x, p_neg, 'r', linewidth=2)\n",
    "plt.title(\"Gradient norm differences\")\n",
    "plt.xlabel(\"Gradient norm difference\")\n",
    "plt.ylabel(\"Frequency\")\n",
    "plt.legend(loc='upper right')\n",
    "plt.show()"
   ]
  },
  {
   "cell_type": "markdown",
   "metadata": {},
   "source": [
    "# 4. Membefship inference from predictions"
   ]
  },
  {
   "cell_type": "markdown",
   "metadata": {},
   "source": [
    "## Special sampling functions"
   ]
  },
  {
   "cell_type": "code",
   "execution_count": 24,
   "metadata": {},
   "outputs": [],
   "source": [
    "# A function that samples neighboring datasets, where the label in the second quadrant is always 0, in the fourth quadrant is always 1, and in the other two quadrants is sampled from a Bernoulli distribution with probability 0.5.\n",
    "# The two datasets have one additional data point, which is the same in both datasets, and is located at the point (clipping_radius, clipping_radius), with the label 0 in the first dataset and 1 in the second dataset.\n",
    "# data_parameters: a dictionary containing the data sampling parameters\n",
    "# learning_parameters: a dictionary containing the learning parameters\n",
    "def sample_neighboring_datasets(data_parameters, learning_parameters):\n",
    "    dim = 2\n",
    "    mean = np.zeros(dim)\n",
    "    data = np.random.normal(mean, data_parameters['data_scale'], (data_parameters['training_sample_size'], dim))\n",
    "    labels = np.random.binomial(1, 0.5, data_parameters['training_sample_size'])    \n",
    "    labels[(data[:, 0] <= 0) & (data[:, 1] <= 0)] = 0\n",
    "    labels[(data[:, 0] > 0) & (data[:, 1] > 0)] = 1\n",
    "    data_point = np.array([1, 1])*learning_parameters['clipping_radius']\n",
    "    data_0 = np.append(data, [data_point], axis=0)\n",
    "    data_1 = np.append(data, [data_point], axis=0)\n",
    "    labels_0 = np.append(labels, 0)\n",
    "    labels_1 = np.append(labels, 1)\n",
    "    return [{'data': data_0, 'labels': labels_0}, {'data': data_1, 'labels': labels_1}]"
   ]
  },
  {
   "cell_type": "markdown",
   "metadata": {},
   "source": [
    "## Membership inference function"
   ]
  },
  {
   "cell_type": "code",
   "execution_count": 25,
   "metadata": {},
   "outputs": [],
   "source": [
    "# A function that computes the returns the probability of the label 1 for the data point guess_model based on a given model\n",
    "# guess_model: the data point that is equal to the guess model\n",
    "# model: the model\n",
    "def prediction_membership_inference_test(guess_model, model):\n",
    "    return np.clip(1/(1+np.exp(-np.dot(guess_model, model))), 1e-6, 1-1e-6)"
   ]
  },
  {
   "cell_type": "markdown",
   "metadata": {},
   "source": [
    "## Experiment functions"
   ]
  },
  {
   "cell_type": "code",
   "execution_count": 26,
   "metadata": {},
   "outputs": [],
   "source": [
    "# A single prediction based membership inference experiment, which samples the data and the model using the special function, and then computes the probability of the label 1 for the data point guess_model based on the model\n",
    "# data_parameters: a dictionary containing the data sampling parameters\n",
    "# learning_parameters_array: an array of dictionaries, each containing a set of learning parameters\n",
    "def run_prediction_MI_experiment(data_parameters, learning_parameters_array):\n",
    "    guess_model = np.array([1.0, 1.0])\n",
    "    keys = [learning_parameters['name'] for learning_parameters in learning_parameters_array]\n",
    "    index = np.random.binomial(1, 0.5)\n",
    "    probabilities = np.zeros(len(keys))\n",
    "    for i in range(len(keys)):\n",
    "        learning_parameters = learning_parameters_array[i]\n",
    "        training_sets = sample_neighboring_datasets(data_parameters, learning_parameters)\n",
    "        models_array = logistic_regression(guess_model, training_sets[index], learning_parameters)\n",
    "        model = models_array[-1]\n",
    "        probabilities[i] = prediction_membership_inference_test(guess_model, model)\n",
    "    return index, probabilities\n",
    "\n",
    "# A full prediction based membership inference experiment, which runs num_of_experiments experiments using the previous function and averages the probabilities\n",
    "# data_parameters: a dictionary containing the data sampling parameters\n",
    "# learning_parameters_array: an array of dictionaries, each containing a set of learning parameters\n",
    "def run_full_prediction_MI_experiment(data_parameters, learning_parameters_array, num_of_experiments):\n",
    "    keys = [learning_parameters['name'] for learning_parameters in learning_parameters_array]\n",
    "    indeces = np.zeros(num_of_experiments)\n",
    "    probabilities = np.zeros((num_of_experiments, len(keys)))\n",
    "    for i in range(num_of_experiments):\n",
    "        indeces[i], probabilities[i, :] = run_prediction_MI_experiment(data_parameters, learning_parameters_array)\n",
    "    return indeces, probabilities"
   ]
  },
  {
   "cell_type": "markdown",
   "metadata": {},
   "source": [
    "## Experiment 4"
   ]
  },
  {
   "cell_type": "code",
   "execution_count": 27,
   "metadata": {},
   "outputs": [],
   "source": [
    "data_parameters = {'data_scale': 2, 'training_sample_size': 40, 'test_ratio': 0.5}\n",
    "learning_parameters_array = [{'name': 'Learned - noisy (0.01)', 'learning_rate': 1, 'num_of_iterations': 100, 'clipping_radius': data_parameters['data_scale']*4, 'noise_factor': 0.0001}]\n",
    "num_of_experiments = 10000"
   ]
  },
  {
   "cell_type": "code",
   "execution_count": 28,
   "metadata": {},
   "outputs": [],
   "source": [
    "indeces, probabilities = run_full_prediction_MI_experiment(data_parameters, learning_parameters_array, num_of_experiments)"
   ]
  },
  {
   "cell_type": "code",
   "execution_count": 29,
   "metadata": {},
   "outputs": [
    {
     "name": "stdout",
     "output_type": "stream",
     "text": [
      "Positive: mu =  0.7937909764721354 , std =  0.07236927638712849\n",
      "Negative: mu =  0.6495067964653373 , std =  0.046612155231632695\n"
     ]
    },
    {
     "data": {
      "image/png": "[encoded data removed]",
      "text/plain": [
       "<Figure size 640x480 with 1 Axes>"
      ]
     },
     "metadata": {},
     "output_type": "display_data"
    }
   ],
   "source": [
    "num_bins = 200\n",
    "x = np.linspace(0, 1, num_bins)\n",
    "\n",
    "positive_probabilities = probabilities[indeces == 1, :]\n",
    "mu_pos, std_pos = norm.fit(positive_probabilities)\n",
    "p_pos = norm.pdf(x, mu_pos, std_pos)*positive_probabilities.size/num_bins\n",
    "\n",
    "negative_probabilities = probabilities[indeces == 0, :]\n",
    "mu_neg, std_neg = norm.fit(negative_probabilities)\n",
    "p_neg = norm.pdf(x, mu_neg, std_neg)*negative_probabilities.size/num_bins\n",
    "\n",
    "print(\"Positive: mu = \", mu_pos, \", std = \", std_pos)\n",
    "print(\"Negative: mu = \", mu_neg, \", std = \", std_neg)\n",
    "plt.hist(positive_probabilities, bins=x, alpha=0.5, label='Positive', color='b')\n",
    "plt.hist(negative_probabilities, bins=x, alpha=0.5, label='Negative', color='r')\n",
    "plt.plot(x, p_pos, 'b', linewidth=2)\n",
    "plt.plot(x, p_neg, 'r', linewidth=2)\n",
    "plt.title(\"Gradient norm differences\")\n",
    "plt.xlabel(\"Gradient norm difference\")\n",
    "plt.ylabel(\"Frequency\")\n",
    "plt.legend(loc='upper right')\n",
    "plt.show()"
   ]
  }
 ],
 "metadata": {
  "kernelspec": {
   "display_name": "kerasenv",
   "language": "python",
   "name": "python3"
  },
  "language_info": {
   "codemirror_mode": {
    "name": "ipython",
    "version": 3
   },
   "file_extension": ".py",
   "mimetype": "text/x-python",
   "name": "python",
   "nbconvert_exporter": "python",
   "pygments_lexer": "ipython3",
   "version": "3.8.18"
  }
 },
 "nbformat": 4,
 "nbformat_minor": 2
}
