{
 "cells": [
  {
   "cell_type": "code",
   "execution_count": null,
   "metadata": {},
   "outputs": [],
   "source": [
    "import matplotlib.pyplot as plt\n",
    "import matplotlib.colors as mcolors\n",
    "import numpy as np\n",
    "import scipy"
   ]
  },
  {
   "cell_type": "markdown",
   "metadata": {},
   "source": [
    "# Gaussian theoretical ROC"
   ]
  },
  {
   "cell_type": "code",
   "execution_count": null,
   "metadata": {},
   "outputs": [],
   "source": [
    "def Gaussian_theoretical_ROC(FPR, mu_0, mu_1, sigma):\n",
    "    return 0"
   ]
  },
  {
   "cell_type": "code",
   "execution_count": null,
   "metadata": {},
   "outputs": [],
   "source": [
    "def plot_theoretical_ROC(FPR, TPR_list, sigma_array, title):\n",
    "    colors = list(mcolors.BASE_COLORS)\n",
    "    for i, TPR in enumerate(TPR_list):\n",
    "        plt.plot(FPR, TPR, label='sigma: '+str(sigma_array[i]), color=colors[i])\n",
    "    plt.xlabel('FPR')\n",
    "    plt.ylabel('TPR')\n",
    "    plt.legend(loc =\"lower right\")\n",
    "    plt.title(title)\n",
    "    plt.show()\n"
   ]
  },
  {
   "cell_type": "code",
   "execution_count": null,
   "metadata": {},
   "outputs": [],
   "source": [
    "FPR_range = np.linspace(0, 1, 1000)\n",
    "mu_0 = 0\n",
    "mu_1 = 1\n",
    "sigma = 1\n",
    "TPR_list = [Gaussian_theoretical_ROC(FPR_range, mu_0, mu_1, sigma)]\n",
    "params = [sigma]\n",
    "plot_theoretical_ROC(FPR_range, TPR_list, params, 'Gaussian ROC')\n"
   ]
  },
  {
   "cell_type": "markdown",
   "metadata": {},
   "source": [
    "# Gaussian deicion rule"
   ]
  },
  {
   "cell_type": "code",
   "execution_count": null,
   "metadata": {},
   "outputs": [],
   "source": [
    "def Gaussian_decision_rule(sample, FPR, mu_1, sigma):\n",
    "    return 0\n",
    "\n",
    "def run_empirical_experiment(mu_0, mu_1, sigma, num_trials, FPR):\n",
    "    TP = FN = FP = TN = 0\n",
    "    return np.array([TP, FN, FP, TN])"
   ]
  },
  {
   "cell_type": "code",
   "execution_count": null,
   "metadata": {},
   "outputs": [],
   "source": [
    "def plot_empirical_ROC(results_array, sigma_array, title):\n",
    "    colors = list(mcolors.BASE_COLORS)\n",
    "    for i, results in enumerate(results_array):\n",
    "        TP = results[:,0]\n",
    "        FN = results[:,1]\n",
    "        FP = results[:,2]\n",
    "        TN = results[:,3]\n",
    "        TPR = TP/(TP+FN)\n",
    "        FPR = FP/(FP+TN)\n",
    "        plt.scatter(FPR, TPR, label='sigma: '+str(sigma_array[i]), s=1.5, color=colors[i])\n",
    "    plt.xlabel('FPR')\n",
    "    plt.ylabel('TPR')\n",
    "    plt.legend(loc =\"lower right\")\n",
    "    plt.title(title)\n",
    "    plt.show()"
   ]
  },
  {
   "cell_type": "code",
   "execution_count": null,
   "metadata": {},
   "outputs": [],
   "source": [
    "FPR_range = np.linspace(0, 1, 100)\n",
    "mu_0 = 0\n",
    "mu_1 = 1\n",
    "sigma = 1\n",
    "results = [np.array([run_empirical_experiment(mu_0, mu_1, sigma, 1000, FPR) for FPR in FPR_range])]\n",
    "params = [sigma]\n",
    "plot_empirical_ROC(results, params, 'Gaussian empirical ROC')"
   ]
  },
  {
   "cell_type": "markdown",
   "metadata": {},
   "source": [
    "# Compute pure DP ROC bound"
   ]
  },
  {
   "cell_type": "code",
   "execution_count": null,
   "metadata": {},
   "outputs": [],
   "source": [
    "def theoretical_pure_DP_bound(FPR, epsilon):\n",
    "    return 0"
   ]
  },
  {
   "cell_type": "code",
   "execution_count": null,
   "metadata": {},
   "outputs": [],
   "source": [
    "def plot_theoretical_PD_bound(FPR, TPR_list, epsilon_array, title):\n",
    "    colors = list(mcolors.BASE_COLORS)\n",
    "    for i, TPR in enumerate(TPR_list):\n",
    "        plt.plot(FPR, TPR, label='epsilon: '+str(epsilon_array[i]), color=colors[i])\n",
    "    plt.xlabel('FPR')\n",
    "    plt.ylabel('TPR')\n",
    "    plt.legend(loc =\"lower right\")\n",
    "    plt.title(title)\n",
    "    plt.show()"
   ]
  },
  {
   "cell_type": "code",
   "execution_count": null,
   "metadata": {},
   "outputs": [],
   "source": [
    "FPR_range = np.linspace(0, 1, 1000)\n",
    "epsilon = mu_1\n",
    "DP_bound_list = [theoretical_pure_DP_bound(FPR_range, epsilon)]\n",
    "params = [epsilon]\n",
    "plot_theoretical_PD_bound(FPR_range, DP_bound_list, params, 'Gaussian ROC')\n"
   ]
  }
 ],
 "metadata": {
  "kernelspec": {
   "display_name": "Python 3",
   "language": "python",
   "name": "python3"
  },
  "language_info": {
   "codemirror_mode": {
    "name": "ipython",
    "version": 3
   },
   "file_extension": ".py",
   "mimetype": "text/x-python",
   "name": "python",
   "nbconvert_exporter": "python",
   "pygments_lexer": "ipython3",
   "version": "3.11.4"
  }
 },
 "nbformat": 4,
 "nbformat_minor": 2
}
